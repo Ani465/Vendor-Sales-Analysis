{
 "cells": [
  {
   "cell_type": "markdown",
   "id": "4160d05c-983c-47a8-9eb2-6b183a541579",
   "metadata": {},
   "source": [
    "# EXPLORATORY DATA ANALYSIS\n",
    "\n",
    "Understanding the dataset to explore how the data i present in the dataset and if there is a need of creating some aggregated tables that can help with:\n",
    "\n",
    "- Vendor Selection for profitability\n",
    "- Product pricing Optimization"
   ]
  },
  {
   "cell_type": "code",
   "execution_count": null,
   "id": "5d9b7247-9766-4dbb-88e0-4ed06014a92c",
   "metadata": {},
   "outputs": [],
   "source": []
  }
 ],
 "metadata": {
  "kernelspec": {
   "display_name": "Python 3 (ipykernel)",
   "language": "python",
   "name": "python3"
  },
  "language_info": {
   "codemirror_mode": {
    "name": "ipython",
    "version": 3
   },
   "file_extension": ".py",
   "mimetype": "text/x-python",
   "name": "python",
   "nbconvert_exporter": "python",
   "pygments_lexer": "ipython3",
   "version": "3.10.11"
  }
 },
 "nbformat": 4,
 "nbformat_minor": 5
}
